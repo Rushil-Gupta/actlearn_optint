{
 "cells": [
  {
   "cell_type": "markdown",
   "metadata": {},
   "source": [
    "This notebook studies the linearity in the learned DAG vs random DAGs and can be used to replicate **Fig. S11C**."
   ]
  },
  {
   "cell_type": "code",
   "execution_count": 1,
   "metadata": {},
   "outputs": [],
   "source": [
    "import numpy as np\n",
    "import networkx as nx\n",
    "import pickle\n",
    "import matplotlib.pyplot as plt\n",
    "from sklearn.linear_model import LinearRegression\n",
    "from sklearn.impute import SimpleImputer\n",
    "from scipy.stats import pearsonr\n",
    "from scipy.stats import zscore\n",
    "import scanpy as sc\n",
    "import pandas as pd\n",
    "from tqdm import tqdm"
   ]
  },
  {
   "cell_type": "code",
   "execution_count": 2,
   "metadata": {},
   "outputs": [],
   "source": [
    "# Specify directories\n",
    "data_dir = \"/Tmp/rushil/data/\"\n",
    "save_dir = \"/Tmp/rushil/data/\""
   ]
  },
  {
   "cell_type": "code",
   "execution_count": 3,
   "metadata": {},
   "outputs": [],
   "source": [
    "with open(data_dir + \"estimated_dag.pkl\", 'rb') as file:\n",
    "\tdag = pickle.load(file)\n",
    "order = list(nx.topological_sort(dag))\n",
    "\n",
    "with open(data_dir + \"gene_dict.pkl\", 'rb') as file:\n",
    "\tgene_dict = pickle.load(file)\n",
    "\n",
    "obs_samples = np.load(data_dir + \"samples+/ctrl.npy\")"
   ]
  },
  {
   "cell_type": "markdown",
   "metadata": {},
   "source": [
    "### regression over parents in the learned dag"
   ]
  },
  {
   "cell_type": "code",
   "execution_count": 4,
   "metadata": {},
   "outputs": [],
   "source": [
    "responses = []\n",
    "r_scores = {}\n",
    "\n",
    "for gene in order:\n",
    "\tgene_parents = list(dag.predecessors(gene))\n",
    "\n",
    "\tif len(gene_parents) != 0:\n",
    "\t\tif gene not in responses:\n",
    "\t\t\tresponses.append(gene)\n",
    "\n",
    "\t\tX = obs_samples[[gene_dict[i] for i in gene_parents], :].T\n",
    "\t\ty = obs_samples[gene_dict[gene], :].reshape(-1)\n",
    "\t\treg = LinearRegression().fit(X, y)\n",
    "\t\tr_scores[gene] = reg.score(X,y)**0.5"
   ]
  },
  {
   "cell_type": "markdown",
   "metadata": {},
   "source": [
    "### regression over parents in random dags"
   ]
  },
  {
   "cell_type": "code",
   "execution_count": 5,
   "metadata": {},
   "outputs": [],
   "source": [
    "n = len(dag.nodes)\n",
    "p = len(dag.edges)/(n*(n-1)/2)"
   ]
  },
  {
   "cell_type": "code",
   "execution_count": 6,
   "metadata": {},
   "outputs": [
    {
     "name": "stderr",
     "output_type": "stream",
     "text": [
      "100%|██████████| 100/100 [00:04<00:00, 23.30it/s]\n"
     ]
    }
   ],
   "source": [
    "avg_scores = []\n",
    "\n",
    "for _ in tqdm(range(100)):\n",
    "\trandom_dag = nx.erdos_renyi_graph(n, p, directed=True)\n",
    "\trandom_perm = {list(dag.nodes)[i]:i for i in np.random.permutation(n)}\n",
    "\tinv_random_perm = {random_perm[i]:i for i in random_perm.keys()}\n",
    "\n",
    "\trandom_r_scores = []\n",
    "\n",
    "\tfor gene in random_perm.keys():\n",
    "\t\tgene_parents = [inv_random_perm[i] for i in random_dag.predecessors(random_perm[gene])]\n",
    "\n",
    "\t\tif len(gene_parents) != 0:\n",
    "\t\t\tX = obs_samples[[gene_dict[i] for i in gene_parents], :].T\n",
    "\t\t\ty = obs_samples[gene_dict[gene], :].reshape(-1)\n",
    "\t\t\treg = LinearRegression().fit(X, y)\n",
    "\t\t\trandom_r_scores.append(reg.score(X,y)**0.5)\n",
    "\tavg_scores.append(np.average(random_r_scores))"
   ]
  },
  {
   "cell_type": "markdown",
   "metadata": {},
   "source": [
    "### Supplementary Fig. 14C"
   ]
  },
  {
   "cell_type": "code",
   "execution_count": 7,
   "metadata": {},
   "outputs": [
    {
     "data": {
      "image/png": "[encoded data removed]",
      "text/plain": [
       "<Figure size 504x216 with 1 Axes>"
      ]
     },
     "metadata": {
      "needs_background": "light"
     },
     "output_type": "display_data"
    }
   ],
   "source": [
    "fig, ax = plt.subplots(1,1,figsize=(7,3))\n",
    "plt.rcParams.update({'font.size': 11})\n",
    "\n",
    "plt.bar(list(r_scores.keys()), list(r_scores.values()), color='cornflowerblue', alpha=0.8)\n",
    "plt.xticks(rotation=90)\n",
    "plt.xlim(-1,31)\n",
    "ax.spines.right.set_visible(False)\n",
    "ax.spines.top.set_visible(False)\n",
    "plt.ylabel('Pearson r scores')\n",
    "plt.xlabel('Nodes')\n",
    "\n",
    "plt.hlines(np.average(list(r_scores.values())), xmin=-1, xmax=31, color='cornflowerblue', linestyles='--', label='learned')\n",
    "plt.hlines(np.average(avg_scores), xmin=-1, xmax=31, color='grey', linestyles='--', label='random (x100)')\n",
    "plt.fill_between(np.arange(-1,32,1), [np.average(avg_scores)-np.std(avg_scores)]*33, [np.average(avg_scores)+np.std(avg_scores)]*33, color='grey', alpha=.2)\n",
    "\n",
    "plt.legend()\n",
    "plt.tight_layout()\n",
    "plt.savefig(data_dir + 'figures/r_score_rotate.pdf')"
   ]
  },
  {
   "cell_type": "code",
   "execution_count": null,
   "metadata": {},
   "outputs": [],
   "source": []
  }
 ],
 "metadata": {
  "kernelspec": {
   "display_name": "Python 3 (ipykernel)",
   "language": "python",
   "name": "python3"
  },
  "language_info": {
   "codemirror_mode": {
    "name": "ipython",
    "version": 3
   },
   "file_extension": ".py",
   "mimetype": "text/x-python",
   "name": "python",
   "nbconvert_exporter": "python",
   "pygments_lexer": "ipython3",
   "version": "3.9.10"
  },
  "vscode": {
   "interpreter": {
    "hash": "fea9ec7d42d9b88cd9ceda2baf5f74c4d5ce56fea11761fbf0103333ba0f7749"
   }
  }
 },
 "nbformat": 4,
 "nbformat_minor": 2
}
